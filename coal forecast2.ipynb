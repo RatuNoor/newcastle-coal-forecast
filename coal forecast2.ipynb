{
 "cells": [
  {
   "cell_type": "code",
   "execution_count": null,
   "metadata": {},
   "outputs": [],
   "source": [
    "# 12 month moving average\n",
    "df['Average'] = df['Last'].rolling(12).mean()"
   ]
  },
  {
   "cell_type": "code",
   "execution_count": null,
   "metadata": {},
   "outputs": [],
   "source": [
    "# plot the data and MA\n",
    "import plotly.express as px\n",
    "fig = px.line(df, x=\"Date\", y=[\"Last\", \"Average\"], template = 'plotly_dark')\n",
    "fig.show()"
   ]
  },
  {
   "cell_type": "code",
   "execution_count": null,
   "metadata": {},
   "outputs": [],
   "source": [
    "df[['Last', 'Average']].describe()"
   ]
  },
  {
   "cell_type": "code",
   "execution_count": null,
   "metadata": {},
   "outputs": [],
   "source": [
    "# month_counts = df['Month'].value_counts().astype(str)\n",
    "# month_counts"
   ]
  },
  {
   "cell_type": "markdown",
   "metadata": {},
   "source": [
    "## Split Data"
   ]
  },
  {
   "cell_type": "code",
   "execution_count": null,
   "metadata": {},
   "outputs": [],
   "source": [
    "\n",
    "# # split data into train-test set\n",
    "# train = df[df['Year'] <= 2023]\n",
    "# test = df[df['Year'] > 2023]\n",
    "\n",
    "\n",
    "# Memisahkan data menjadi train dan test\n",
    "train = df.iloc[:-7, :]\n",
    "test = df.iloc[-7:, :]\n",
    "\n",
    "# check shape\n",
    "train.shape, test.shape"
   ]
  },
  {
   "cell_type": "markdown",
   "metadata": {},
   "source": [
    "# Model: SES\n",
    "Simple Exponeial Smoohing"
   ]
  },
  {
   "cell_type": "code",
   "execution_count": null,
   "metadata": {},
   "outputs": [],
   "source": [
    "\n",
    "from statsmodels.tsa.api import SimpleExpSmoothing\n",
    "import plotly.express as px\n",
    "\n",
    "y_hat_avg = test.copy()\n",
    "\n",
    "#fit the model\n",
    "fit2 = SimpleExpSmoothing(np.asarray(train['Last'])).fit(smoothing_level=0.8,optimized=False)\n",
    "\n",
    "#forecast\n",
    "y_hat_avg['SES'] = fit2.forecast(len(test))\n",
    "plt.figure(figsize=(16,8))\n",
    "\n",
    "#Append train, test and forecast results\n",
    "train['Name'] ='Train'\n",
    "test['Name'] = 'Test'\n",
    "x = train.append(test)\n",
    "y = pd.DataFrame(y_hat_avg['SES'])\n",
    "y['Name'] = 'SES'\n",
    "y.rename(columns ={'SES':'Last'}, inplace = True )\n",
    "z= x.append(y)\n",
    "# Menyusun DataFrame dengan indeks waktu menggunakan 'Month' dan 'Year'\n",
    "z['Date'] = df['Date']  \n",
    "z = z.set_index('Date')\n",
    "\n",
    "# Membuat plot dengan sumbu x yang menampilkan keterangan bulan dan tahun\n",
    "fig = px.line(z, x=z.index, y=\"Last\", color='Name', template = 'plotly_dark')\n",
    "fig.update_xaxes(\n",
    "    tickformat=\"%b %Y\",  \n",
    "    tickangle=45,         \n",
    "    tickmode='auto',\n",
    "    title_text='Month'\n",
    ")\n",
    "fig.show()\n",
    "\n"
   ]
  },
  {
   "cell_type": "code",
   "execution_count": null,
   "metadata": {},
   "outputs": [],
   "source": [
    "#calculate root mean squared error\n",
    "rms = sqrt(mean_squared_error(test['Last'], y_hat_avg.SES))\n",
    "print('RMSE of Simple Exponential Smoothing: ', rms)\n",
    "\n",
    "# MAPE\n",
    "from sklearn.metrics import mean_absolute_percentage_error\n",
    "\n",
    "mape = mean_absolute_percentage_error(test['Last'], y_hat_avg.SES)\n",
    "print('MAPE of Simple Exponential Smoothing: ', mape)"
   ]
  },
  {
   "cell_type": "markdown",
   "metadata": {},
   "source": [
    "# Model: HoltWinter"
   ]
  },
  {
   "cell_type": "code",
   "execution_count": null,
   "metadata": {},
   "outputs": [],
   "source": [
    "from statsmodels.tsa.api import ExponentialSmoothing\n",
    "y_hat_avg = test.copy()\n",
    "\n",
    "#Fit the model\n",
    "fit2 = ExponentialSmoothing(np.asarray(train['Last']),trend='add', seasonal='add', seasonal_periods=12,damped=False).fit()\n",
    "\n",
    "#Forecast\n",
    "y_hat_avg['HoltWinter'] = fit2.forecast(len(test))\n",
    "plt.figure(figsize=(16,8))\n",
    "\n",
    "#Append train, test and forecast for visualization\n",
    "train['Name'] ='Train'\n",
    "test['Name'] = 'Test'\n",
    "x = train.append(test)\n",
    "y = pd.DataFrame(y_hat_avg['HoltWinter'])\n",
    "y['Name'] = 'HoltWinter'\n",
    "y.rename(columns ={'HoltWinter':'Last'}, inplace = True )\n",
    "z= x.append(y)\n",
    "z['Date'] = df['Date']  \n",
    "z = z.set_index('Date')\n",
    "\n",
    "# Membuat plot dengan sumbu x yang menampilkan keterangan bulan dan tahun\n",
    "fig = px.line(z, x=z.index, y=\"Last\", color='Name', template = 'plotly_dark')\n",
    "fig.update_xaxes(\n",
    "    tickformat=\"%b %Y\",  \n",
    "    tickangle=45,         \n",
    "    tickmode='auto',\n",
    "    title_text='Month'\n",
    ")\n",
    "fig.show()\n",
    "\n"
   ]
  },
  {
   "cell_type": "code",
   "execution_count": null,
   "metadata": {},
   "outputs": [],
   "source": [
    "\n",
    "#RMSe\n",
    "rms = sqrt(mean_squared_error(test['Last'], y_hat_avg.HoltWinter))\n",
    "print('RMSE of HoltWinter Model:', rms)\n",
    "\n",
    "#R2\n",
    "r2 = r2_score(test['Last'], y_hat_avg.HoltWinter)\n",
    "print('R-squared of HoltWinter Model:', r2)    \n",
    "\n",
    "#MAPE\n",
    "mape = mean_absolute_percentage_error(test['Last'], y_hat_avg.HoltWinter)\n",
    "print('MAPE of HoltWinter Model: ', mape)"
   ]
  },
  {
   "cell_type": "markdown",
   "metadata": {},
   "source": [
    "# Model SARIMAX"
   ]
  },
  {
   "cell_type": "code",
   "execution_count": null,
   "metadata": {},
   "outputs": [],
   "source": [
    "import statsmodels.api as sm\n",
    "model1=sm.tsa.statespace.SARIMAX(np.asarray(train['Last']),order=(1, 1, 1),seasonal_order=(1,1,1,12))\n",
    "\n",
    "results=model1.fit()\n",
    "results.summary()"
   ]
  },
  {
   "cell_type": "markdown",
   "metadata": {},
   "source": [
    "# Import Packages & Data "
   ]
  },
  {
   "cell_type": "code",
   "execution_count": null,
   "metadata": {},
   "outputs": [],
   "source": []
  },
  {
   "cell_type": "code",
   "execution_count": null,
   "metadata": {},
   "outputs": [],
   "source": [
    "#Forecast\n",
    "y_hat_avg['sarimax'] = results.forecast(len(test))\n",
    "plt.figure(figsize=(16,8))\n",
    "\n",
    "#Append train, test and forecast for visualization\n",
    "train['Name'] ='Train'\n",
    "test['Name'] = 'Test'\n",
    "x = train.append(test)\n",
    "y = pd.DataFrame(y_hat_avg['sarimax'])\n",
    "y['Name'] = 'SARIMAX'\n",
    "y.rename(columns ={'sarimax':'Last'}, inplace = True )\n",
    "z= x.append(y)\n",
    "z['Date'] = df['Date']  \n",
    "z = z.set_index('Date')\n",
    "\n",
    "# Membuat plot dengan sumbu x yang menampilkan keterangan bulan dan tahun\n",
    "fig = px.line(z, x=z.index, y=\"Last\", color='Name', template = 'plotly_dark')\n",
    "fig.update_xaxes(\n",
    "    tickformat=\"%b %Y\",  \n",
    "    tickangle=45,         \n",
    "    tickmode='auto',\n",
    "    title_text='Month'\n",
    ")\n",
    "fig.show()"
   ]
  },
  {
   "cell_type": "code",
   "execution_count": null,
   "metadata": {},
   "outputs": [],
   "source": [
    "#Check accuracy\n",
    "rms = sqrt(mean_squared_error(test['Last'], y_hat_avg.sarimax))\n",
    "print('RMSE of SARIMAX Model:', rms)\n",
    "\n",
    "#r2\n",
    "r2 = r2_score(test['Last'], y_hat_avg.sarimax)\n",
    "print('R-squared of SARIMAX Model:', r2)\n",
    "\n",
    "#MAPE\n",
    "mape = mean_absolute_percentage_error(test['Last'], y_hat_avg.sarimax)\n",
    "print('MAPE of SARIMAX Model: ', mape)\n"
   ]
  },
  {
   "cell_type": "markdown",
   "metadata": {},
   "source": [
    "# Model: Stacked LSTM"
   ]
  },
  {
   "cell_type": "code",
   "execution_count": null,
   "metadata": {},
   "outputs": [],
   "source": [
    "import numpy as np\n",
    "import pandas as pd\n",
    "import plotly.express as px\n",
    "from sklearn.preprocessing import MinMaxScaler\n",
    "from keras.models import Sequential\n",
    "from keras.layers import LSTM, Dense\n",
    "\n",
    "\n",
    "# Preprocessing: Scaling the data\n",
    "scaler = MinMaxScaler()\n",
    "train_scaled = scaler.fit_transform(train[['Last']])\n",
    "test_scaled = scaler.transform(test[['Last']])\n",
    "\n",
    "# Function to create time series data for LSTM\n",
    "def create_lstm_dataset(dataset, time_steps=1):\n",
    "    X, y = [], []\n",
    "    for i in range(len(dataset)-time_steps+1):\n",
    "        a = dataset[i:(i+time_steps), 0]\n",
    "        X.append(a)\n",
    "        y.append(dataset[i + time_steps - 1, 0])\n",
    "    return np.array(X), np.array(y)\n",
    "\n",
    "\n",
    "# Set the time steps\n",
    "time_steps = 2\n",
    "\n",
    "# Create time series dataset for LSTM\n",
    "X_train, y_train = create_lstm_dataset(train_scaled, time_steps)\n",
    "X_test, y_test = create_lstm_dataset(test_scaled, time_steps)\n",
    "\n",
    "# Reshape input to be [samples, time steps, features]\n",
    "X_train = np.reshape(X_train, (X_train.shape[0], X_train.shape[1], 1))\n",
    "X_test = np.reshape(X_test, (X_test.shape[0], time_steps, 1))\n",
    "\n",
    "\n",
    "# Build LSTM model\n",
    "model = Sequential()\n",
    "model.add(LSTM(units=50, input_shape=(X_train.shape[1], 1), return_sequences=True))\n",
    "model.add(LSTM(units=50, input_shape=(X_train.shape[1], 1)))\n",
    "model.add(Dense(units=1))\n",
    "model.compile(optimizer='adam', loss='mean_squared_error')\n",
    "\n",
    "# Train the model\n",
    "model.fit(X_train, y_train, epochs=100, batch_size=32)\n",
    "\n",
    "# Predict on the test set\n",
    "y_hat_lstm_scaled = model.predict(X_test)\n",
    "\n",
    "# Inverse transform the scaled predictions\n",
    "y_hat_lstm = scaler.inverse_transform(np.reshape(y_hat_lstm_scaled, (len(y_hat_lstm_scaled), 1)))\n",
    "\n",
    "# Create DataFrame for LSTM forecast\n",
    "y_hat_avg['LSTM'] = np.nan\n",
    "y_hat_avg['LSTM'].iloc[time_steps-1:len(test)+time_steps-1] = y_hat_lstm.flatten()\n",
    "\n",
    "# Append train, test, and forecast for visualization\n",
    "x = train.append(test)\n",
    "y = pd.DataFrame(y_hat_avg[['LSTM']])\n",
    "y['Name'] = 'LSTM'\n",
    "y.rename(columns={'LSTM': 'Last'}, inplace=True)\n",
    "z = x.append(y)\n",
    "z['Date'] = df['Date']\n",
    "z = z.set_index('Date')\n",
    "\n",
    "# Create plot with x-axis showing month and year\n",
    "fig = px.line(z, x=z.index, y=\"Last\", color='Name', template='plotly_dark')\n",
    "fig.update_xaxes(\n",
    "    tickformat=\"%b %Y\",\n",
    "    tickangle=45,\n",
    "    tickmode='auto',\n",
    "    title_text='Month'\n",
    ")\n",
    "fig.show()\n",
    "\n"
   ]
  },
  {
   "cell_type": "code",
   "execution_count": 173,
   "metadata": {},
   "outputs": [
    {
     "name": "stdout",
     "output_type": "stream",
     "text": [
      "RMSE of LSTM Model: 8.493025871313645\n",
      "R-squared of LSTM Model: -0.09668504202901329\n",
      "MAPE of LSTM Model:  0.04705843224072578\n"
     ]
    }
   ],
   "source": [
    "\n",
    "test_values = test['Last'].dropna()\n",
    "predicted_values = y_hat_avg['LSTM'].dropna()\n",
    "\n",
    "\n",
    "test_values = test_values[test_values.index.isin(predicted_values.index)]\n",
    "predicted_values = predicted_values[predicted_values.index.isin(test_values.index)]\n",
    "\n",
    "\n",
    "rms = sqrt(mean_squared_error(test_values, predicted_values))\n",
    "print('RMSE of LSTM Model:', rms)\n",
    "\n",
    "r2 = r2_score(test_values, predicted_values)\n",
    "print('R-squared of LSTM Model:', r2)\n",
    "\n",
    "#MAPE\n",
    "mape = mean_absolute_percentage_error(test_values, predicted_values)\n",
    "print('MAPE of LSTM Model: ', mape)"
   ]
  },
  {
   "cell_type": "code",
   "execution_count": 174,
   "metadata": {},
   "outputs": [
    {
     "data": {
      "text/html": [
       "<div>\n",
       "<style scoped>\n",
       "    .dataframe tbody tr th:only-of-type {\n",
       "        vertical-align: middle;\n",
       "    }\n",
       "\n",
       "    .dataframe tbody tr th {\n",
       "        vertical-align: top;\n",
       "    }\n",
       "\n",
       "    .dataframe thead th {\n",
       "        text-align: right;\n",
       "    }\n",
       "</style>\n",
       "<table border=\"1\" class=\"dataframe\">\n",
       "  <thead>\n",
       "    <tr style=\"text-align: right;\">\n",
       "      <th></th>\n",
       "      <th>Date</th>\n",
       "      <th>Last</th>\n",
       "      <th>Month</th>\n",
       "      <th>Year</th>\n",
       "      <th>time_interval</th>\n",
       "      <th>diff</th>\n",
       "      <th>Average</th>\n",
       "      <th>Name</th>\n",
       "      <th>HoltWinter</th>\n",
       "      <th>sarimax</th>\n",
       "      <th>LSTM</th>\n",
       "    </tr>\n",
       "  </thead>\n",
       "  <tbody>\n",
       "    <tr>\n",
       "      <th>178</th>\n",
       "      <td>2023-10-27</td>\n",
       "      <td>135.20</td>\n",
       "      <td>10</td>\n",
       "      <td>2023</td>\n",
       "      <td>28 days</td>\n",
       "      <td>-24.90</td>\n",
       "      <td>212.916667</td>\n",
       "      <td>Test</td>\n",
       "      <td>160.571284</td>\n",
       "      <td>163.174713</td>\n",
       "      <td>NaN</td>\n",
       "    </tr>\n",
       "    <tr>\n",
       "      <th>179</th>\n",
       "      <td>2023-11-24</td>\n",
       "      <td>122.00</td>\n",
       "      <td>11</td>\n",
       "      <td>2023</td>\n",
       "      <td>28 days</td>\n",
       "      <td>-13.20</td>\n",
       "      <td>193.966667</td>\n",
       "      <td>Test</td>\n",
       "      <td>127.351489</td>\n",
       "      <td>123.853697</td>\n",
       "      <td>130.323639</td>\n",
       "    </tr>\n",
       "    <tr>\n",
       "      <th>180</th>\n",
       "      <td>2023-12-29</td>\n",
       "      <td>146.40</td>\n",
       "      <td>12</td>\n",
       "      <td>2023</td>\n",
       "      <td>35 days</td>\n",
       "      <td>24.40</td>\n",
       "      <td>172.487500</td>\n",
       "      <td>Test</td>\n",
       "      <td>154.083434</td>\n",
       "      <td>146.271167</td>\n",
       "      <td>129.536911</td>\n",
       "    </tr>\n",
       "    <tr>\n",
       "      <th>181</th>\n",
       "      <td>2024-01-26</td>\n",
       "      <td>130.75</td>\n",
       "      <td>1</td>\n",
       "      <td>2024</td>\n",
       "      <td>28 days</td>\n",
       "      <td>-15.65</td>\n",
       "      <td>153.541667</td>\n",
       "      <td>Test</td>\n",
       "      <td>160.573011</td>\n",
       "      <td>159.317183</td>\n",
       "      <td>139.138565</td>\n",
       "    </tr>\n",
       "    <tr>\n",
       "      <th>182</th>\n",
       "      <td>2024-02-23</td>\n",
       "      <td>126.25</td>\n",
       "      <td>2</td>\n",
       "      <td>2024</td>\n",
       "      <td>28 days</td>\n",
       "      <td>-4.50</td>\n",
       "      <td>146.629167</td>\n",
       "      <td>Test</td>\n",
       "      <td>126.455399</td>\n",
       "      <td>129.541301</td>\n",
       "      <td>128.968369</td>\n",
       "    </tr>\n",
       "    <tr>\n",
       "      <th>183</th>\n",
       "      <td>2024-03-28</td>\n",
       "      <td>125.25</td>\n",
       "      <td>3</td>\n",
       "      <td>2024</td>\n",
       "      <td>34 days</td>\n",
       "      <td>-1.00</td>\n",
       "      <td>142.295833</td>\n",
       "      <td>Test</td>\n",
       "      <td>142.343315</td>\n",
       "      <td>155.048156</td>\n",
       "      <td>126.158813</td>\n",
       "    </tr>\n",
       "    <tr>\n",
       "      <th>184</th>\n",
       "      <td>2024-04-26</td>\n",
       "      <td>124.70</td>\n",
       "      <td>4</td>\n",
       "      <td>2024</td>\n",
       "      <td>29 days</td>\n",
       "      <td>-0.55</td>\n",
       "      <td>136.879167</td>\n",
       "      <td>Test</td>\n",
       "      <td>143.020420</td>\n",
       "      <td>155.436941</td>\n",
       "      <td>125.447464</td>\n",
       "    </tr>\n",
       "  </tbody>\n",
       "</table>\n",
       "</div>"
      ],
      "text/plain": [
       "          Date    Last  Month  Year time_interval   diff     Average  Name  \\\n",
       "178 2023-10-27  135.20     10  2023       28 days -24.90  212.916667  Test   \n",
       "179 2023-11-24  122.00     11  2023       28 days -13.20  193.966667  Test   \n",
       "180 2023-12-29  146.40     12  2023       35 days  24.40  172.487500  Test   \n",
       "181 2024-01-26  130.75      1  2024       28 days -15.65  153.541667  Test   \n",
       "182 2024-02-23  126.25      2  2024       28 days  -4.50  146.629167  Test   \n",
       "183 2024-03-28  125.25      3  2024       34 days  -1.00  142.295833  Test   \n",
       "184 2024-04-26  124.70      4  2024       29 days  -0.55  136.879167  Test   \n",
       "\n",
       "     HoltWinter     sarimax        LSTM  \n",
       "178  160.571284  163.174713         NaN  \n",
       "179  127.351489  123.853697  130.323639  \n",
       "180  154.083434  146.271167  129.536911  \n",
       "181  160.573011  159.317183  139.138565  \n",
       "182  126.455399  129.541301  128.968369  \n",
       "183  142.343315  155.048156  126.158813  \n",
       "184  143.020420  155.436941  125.447464  "
      ]
     },
     "execution_count": 174,
     "metadata": {},
     "output_type": "execute_result"
    }
   ],
   "source": [
    " y_hat_avg"
   ]
  },
  {
   "cell_type": "markdown",
   "metadata": {},
   "source": [
    "# Model: XGBoost "
   ]
  },
  {
   "cell_type": "code",
   "execution_count": 175,
   "metadata": {},
   "outputs": [],
   "source": [
    "import xgboost as xgb"
   ]
  },
  {
   "cell_type": "code",
   "execution_count": 176,
   "metadata": {},
   "outputs": [
    {
     "data": {
      "text/html": [
       "<div>\n",
       "<style scoped>\n",
       "    .dataframe tbody tr th:only-of-type {\n",
       "        vertical-align: middle;\n",
       "    }\n",
       "\n",
       "    .dataframe tbody tr th {\n",
       "        vertical-align: top;\n",
       "    }\n",
       "\n",
       "    .dataframe thead th {\n",
       "        text-align: right;\n",
       "    }\n",
       "</style>\n",
       "<table border=\"1\" class=\"dataframe\">\n",
       "  <thead>\n",
       "    <tr style=\"text-align: right;\">\n",
       "      <th></th>\n",
       "      <th>Symbol</th>\n",
       "      <th>Contract Name</th>\n",
       "      <th>Last</th>\n",
       "      <th>52W High</th>\n",
       "      <th>52W High Date</th>\n",
       "      <th>52W Low</th>\n",
       "      <th>52W Low Date</th>\n",
       "      <th>52W %Chg</th>\n",
       "      <th>Time</th>\n",
       "    </tr>\n",
       "    <tr>\n",
       "      <th>Exp Date</th>\n",
       "      <th></th>\n",
       "      <th></th>\n",
       "      <th></th>\n",
       "      <th></th>\n",
       "      <th></th>\n",
       "      <th></th>\n",
       "      <th></th>\n",
       "      <th></th>\n",
       "      <th></th>\n",
       "    </tr>\n",
       "  </thead>\n",
       "  <tbody>\n",
       "    <tr>\n",
       "      <th>2008-12-24</th>\n",
       "      <td>LQZ08</td>\n",
       "      <td>ICE NewCastle Coal December 2008 Futures</td>\n",
       "      <td>77.95</td>\n",
       "      <td>78.00</td>\n",
       "      <td>2008-12-17</td>\n",
       "      <td>72.30</td>\n",
       "      <td>2008-12-05</td>\n",
       "      <td>+7.81%</td>\n",
       "      <td>2008-12-24</td>\n",
       "    </tr>\n",
       "    <tr>\n",
       "      <th>2009-01-30</th>\n",
       "      <td>LQF09</td>\n",
       "      <td>ICE NewCastle Coal January 2009 Futures</td>\n",
       "      <td>82.60</td>\n",
       "      <td>83.50</td>\n",
       "      <td>2009-01-16</td>\n",
       "      <td>68.15</td>\n",
       "      <td>2008-12-05</td>\n",
       "      <td>+21.20%</td>\n",
       "      <td>2009-01-30</td>\n",
       "    </tr>\n",
       "    <tr>\n",
       "      <th>2009-02-27</th>\n",
       "      <td>LQG09</td>\n",
       "      <td>ICE NewCastle Coal February 2009 Futures</td>\n",
       "      <td>72.35</td>\n",
       "      <td>80.60</td>\n",
       "      <td>2009-01-06</td>\n",
       "      <td>67.65</td>\n",
       "      <td>2008-12-05</td>\n",
       "      <td>+6.95%</td>\n",
       "      <td>2009-02-27</td>\n",
       "    </tr>\n",
       "    <tr>\n",
       "      <th>2009-03-27</th>\n",
       "      <td>LQH09</td>\n",
       "      <td>ICE NewCastle Coal March 2009 Futures</td>\n",
       "      <td>61.50</td>\n",
       "      <td>79.85</td>\n",
       "      <td>2009-01-06</td>\n",
       "      <td>61.35</td>\n",
       "      <td>2009-03-06</td>\n",
       "      <td>-9.09%</td>\n",
       "      <td>2009-03-27</td>\n",
       "    </tr>\n",
       "    <tr>\n",
       "      <th>2009-04-24</th>\n",
       "      <td>LQJ09</td>\n",
       "      <td>ICE NewCastle Coal April 2009 Futures</td>\n",
       "      <td>62.35</td>\n",
       "      <td>79.85</td>\n",
       "      <td>2009-01-06</td>\n",
       "      <td>58.15</td>\n",
       "      <td>2009-03-16</td>\n",
       "      <td>-7.97%</td>\n",
       "      <td>2009-04-24</td>\n",
       "    </tr>\n",
       "  </tbody>\n",
       "</table>\n",
       "</div>"
      ],
      "text/plain": [
       "           Symbol                             Contract Name   Last  52W High  \\\n",
       "Exp Date                                                                       \n",
       "2008-12-24  LQZ08  ICE NewCastle Coal December 2008 Futures  77.95     78.00   \n",
       "2009-01-30  LQF09   ICE NewCastle Coal January 2009 Futures  82.60     83.50   \n",
       "2009-02-27  LQG09  ICE NewCastle Coal February 2009 Futures  72.35     80.60   \n",
       "2009-03-27  LQH09     ICE NewCastle Coal March 2009 Futures  61.50     79.85   \n",
       "2009-04-24  LQJ09     ICE NewCastle Coal April 2009 Futures  62.35     79.85   \n",
       "\n",
       "           52W High Date  52W Low 52W Low Date 52W %Chg        Time  \n",
       "Exp Date                                                             \n",
       "2008-12-24    2008-12-17    72.30   2008-12-05   +7.81%  2008-12-24  \n",
       "2009-01-30    2009-01-16    68.15   2008-12-05  +21.20%  2009-01-30  \n",
       "2009-02-27    2009-01-06    67.65   2008-12-05   +6.95%  2009-02-27  \n",
       "2009-03-27    2009-01-06    61.35   2009-03-06   -9.09%  2009-03-27  \n",
       "2009-04-24    2009-01-06    58.15   2009-03-16   -7.97%  2009-04-24  "
      ]
     },
     "execution_count": 176,
     "metadata": {},
     "output_type": "execute_result"
    }
   ],
   "source": [
    "# Read the CSV file\n",
    "df = pd.read_csv('historical-prices-01-12-2024.csv', sep=',')\n",
    "\n",
    "# Use a try-except block to handle the conversion and handle non-date strings\n",
    "try:\n",
    "    # Attempt to convert 'ExpDate' to datetime with the specified format\n",
    "    df['Exp Date'] = pd.to_datetime(df['Exp Date'], format='%d/%m/%Y')\n",
    "except ValueError:\n",
    "    # If the above fails, handle non-date strings or use a different format\n",
    "    # You might need to customize this part based on the actual content of your data\n",
    "    df['Exp Date'] = pd.to_datetime(df['Exp Date'], errors='coerce')\n",
    "\n",
    "# Set the cleaned 'ExpDate' column as the index\n",
    "df = df.set_index('Exp Date')\n",
    "\n",
    "# Display the DataFrame\n",
    "df.head()"
   ]
  },
  {
   "cell_type": "code",
   "execution_count": 177,
   "metadata": {},
   "outputs": [],
   "source": [
    "df = df.dropna()\n",
    "df = df.drop(columns=\"Time\")\n",
    "df = df.drop(columns=\"Symbol\")\n",
    "df = df.drop(columns=\"Contract Name\")\n",
    "df = df.drop(columns=\"52W High\")\n",
    "df = df.drop(columns=\"52W High Date\")\n",
    "df = df.drop(columns=\"52W Low\")\n",
    "df = df.drop(columns=\"52W Low Date\")\n",
    "df = df.drop(columns=\"52W %Chg\")\n"
   ]
  },
  {
   "cell_type": "code",
   "execution_count": 178,
   "metadata": {},
   "outputs": [
    {
     "name": "stdout",
     "output_type": "stream",
     "text": [
      "ADF Statistic: -3.256024\n",
      "p-value: 0.016962\n"
     ]
    }
   ],
   "source": [
    "from statsmodels.tsa.stattools import adfuller\n",
    "from numpy import log\n",
    "result = adfuller(df.Last.dropna())\n",
    "print('ADF Statistic: %f' % result[0])\n",
    "print('p-value: %f' % result[1])"
   ]
  },
  {
   "cell_type": "code",
   "execution_count": 179,
   "metadata": {},
   "outputs": [
    {
     "data": {
      "image/png": "[encoded data removed]",
      "text/plain": [
       "<Figure size 1080x360 with 1 Axes>"
      ]
     },
     "metadata": {
      "needs_background": "light"
     },
     "output_type": "display_data"
    }
   ],
   "source": [
    "# @title Train/Test Split\n",
    "train = df.loc[(df.index >= '2020') & (df.index < '2024')]\n",
    "test = df.loc[(df.index >= '2024') & (df.index < '2025')]\n",
    "\n",
    "fig, ax = plt.subplots(figsize=(15, 5))\n",
    "train.plot(ax=ax, label='Training Set', title='Data Train/Test Split')\n",
    "test.plot(ax=ax, label='Test Set')\n",
    "ax.axvline('2024-01-01', color='black', ls='--')\n",
    "ax.legend(['Training Set', 'Test Set'])\n",
    "plt.show()"
   ]
  },
  {
   "cell_type": "code",
   "execution_count": 180,
   "metadata": {},
   "outputs": [],
   "source": [
    "def create_features(df):\n",
    "    \"\"\"\n",
    "    Create time series features based on time series index.\n",
    "    \"\"\"\n",
    "    df = df.copy()\n",
    "    df['hour'] = df.index.hour\n",
    "    df['dayofweek'] = df.index.dayofweek\n",
    "    df['quarter'] = df.index.quarter\n",
    "    df['month'] = df.index.month\n",
    "    df['year'] = df.index.year\n",
    "    df['dayofyear'] = df.index.dayofyear\n",
    "    df['dayofmonth'] = df.index.day\n",
    "    df['weekofyear'] = df.index.isocalendar().week\n",
    "    return df\n",
    "\n",
    "df = create_features(df)"
   ]
  },
  {
   "cell_type": "code",
   "execution_count": 181,
   "metadata": {},
   "outputs": [],
   "source": [
    "train = create_features(train)\n",
    "test = create_features(test)\n",
    "\n",
    "FEATURES = ['dayofyear', 'hour', 'dayofweek', 'quarter', 'month', 'year']\n",
    "TARGET = 'Last'\n",
    "\n",
    "X_train = train[FEATURES]\n",
    "y_train = train[TARGET]\n",
    "\n",
    "X_test = test[FEATURES]\n",
    "y_test = test[TARGET]"
   ]
  },
  {
   "cell_type": "code",
   "execution_count": 182,
   "metadata": {},
   "outputs": [
    {
     "name": "stdout",
     "output_type": "stream",
     "text": [
      "[0]\tvalidation_0-rmse:216.70869\tvalidation_1-rmse:125.22749\n",
      "[100]\tvalidation_0-rmse:93.09094\tvalidation_1-rmse:30.92803\n"
     ]
    },
    {
     "name": "stderr",
     "output_type": "stream",
     "text": [
      "c:\\Users\\ratun\\AppData\\Local\\Programs\\Python\\Python310\\lib\\site-packages\\xgboost\\core.py:160: UserWarning:\n",
      "\n",
      "[08:59:11] WARNING: C:\\buildkite-agent\\builds\\buildkite-windows-cpu-autoscaling-group-i-0b3782d1791676daf-1\\xgboost\\xgboost-ci-windows\\src\\objective\\regression_obj.cu:209: reg:linear is now deprecated in favor of reg:squarederror.\n",
      "\n"
     ]
    },
    {
     "name": "stdout",
     "output_type": "stream",
     "text": [
      "[192]\tvalidation_0-rmse:45.94354\tvalidation_1-rmse:27.95685\n"
     ]
    },
    {
     "data": {
      "text/html": [
       "<style>#sk-container-id-3 {color: black;}#sk-container-id-3 pre{padding: 0;}#sk-container-id-3 div.sk-toggleable {background-color: white;}#sk-container-id-3 label.sk-toggleable__label {cursor: pointer;display: block;width: 100%;margin-bottom: 0;padding: 0.3em;box-sizing: border-box;text-align: center;}#sk-container-id-3 label.sk-toggleable__label-arrow:before {content: \"▸\";float: left;margin-right: 0.25em;color: #696969;}#sk-container-id-3 label.sk-toggleable__label-arrow:hover:before {color: black;}#sk-container-id-3 div.sk-estimator:hover label.sk-toggleable__label-arrow:before {color: black;}#sk-container-id-3 div.sk-toggleable__content {max-height: 0;max-width: 0;overflow: hidden;text-align: left;background-color: #f0f8ff;}#sk-container-id-3 div.sk-toggleable__content pre {margin: 0.2em;color: black;border-radius: 0.25em;background-color: #f0f8ff;}#sk-container-id-3 input.sk-toggleable__control:checked~div.sk-toggleable__content {max-height: 200px;max-width: 100%;overflow: auto;}#sk-container-id-3 input.sk-toggleable__control:checked~label.sk-toggleable__label-arrow:before {content: \"▾\";}#sk-container-id-3 div.sk-estimator input.sk-toggleable__control:checked~label.sk-toggleable__label {background-color: #d4ebff;}#sk-container-id-3 div.sk-label input.sk-toggleable__control:checked~label.sk-toggleable__label {background-color: #d4ebff;}#sk-container-id-3 input.sk-hidden--visually {border: 0;clip: rect(1px 1px 1px 1px);clip: rect(1px, 1px, 1px, 1px);height: 1px;margin: -1px;overflow: hidden;padding: 0;position: absolute;width: 1px;}#sk-container-id-3 div.sk-estimator {font-family: monospace;background-color: #f0f8ff;border: 1px dotted black;border-radius: 0.25em;box-sizing: border-box;margin-bottom: 0.5em;}#sk-container-id-3 div.sk-estimator:hover {background-color: #d4ebff;}#sk-container-id-3 div.sk-parallel-item::after {content: \"\";width: 100%;border-bottom: 1px solid gray;flex-grow: 1;}#sk-container-id-3 div.sk-label:hover label.sk-toggleable__label {background-color: #d4ebff;}#sk-container-id-3 div.sk-serial::before {content: \"\";position: absolute;border-left: 1px solid gray;box-sizing: border-box;top: 0;bottom: 0;left: 50%;z-index: 0;}#sk-container-id-3 div.sk-serial {display: flex;flex-direction: column;align-items: center;background-color: white;padding-right: 0.2em;padding-left: 0.2em;position: relative;}#sk-container-id-3 div.sk-item {position: relative;z-index: 1;}#sk-container-id-3 div.sk-parallel {display: flex;align-items: stretch;justify-content: center;background-color: white;position: relative;}#sk-container-id-3 div.sk-item::before, #sk-container-id-3 div.sk-parallel-item::before {content: \"\";position: absolute;border-left: 1px solid gray;box-sizing: border-box;top: 0;bottom: 0;left: 50%;z-index: -1;}#sk-container-id-3 div.sk-parallel-item {display: flex;flex-direction: column;z-index: 1;position: relative;background-color: white;}#sk-container-id-3 div.sk-parallel-item:first-child::after {align-self: flex-end;width: 50%;}#sk-container-id-3 div.sk-parallel-item:last-child::after {align-self: flex-start;width: 50%;}#sk-container-id-3 div.sk-parallel-item:only-child::after {width: 0;}#sk-container-id-3 div.sk-dashed-wrapped {border: 1px dashed gray;margin: 0 0.4em 0.5em 0.4em;box-sizing: border-box;padding-bottom: 0.4em;background-color: white;}#sk-container-id-3 div.sk-label label {font-family: monospace;font-weight: bold;display: inline-block;line-height: 1.2em;}#sk-container-id-3 div.sk-label-container {text-align: center;}#sk-container-id-3 div.sk-container {/* jupyter's `normalize.less` sets `[hidden] { display: none; }` but bootstrap.min.css set `[hidden] { display: none !important; }` so we also need the `!important` here to be able to override the default hidden behavior on the sphinx rendered scikit-learn.org. See: https://github.com/scikit-learn/scikit-learn/issues/21755 */display: inline-block !important;position: relative;}#sk-container-id-3 div.sk-text-repr-fallback {display: none;}</style><div id=\"sk-container-id-3\" class=\"sk-top-container\"><div class=\"sk-text-repr-fallback\"><pre>XGBRegressor(base_score=0.5, booster=&#x27;gbtree&#x27;, callbacks=None,\n",
       "             colsample_bylevel=None, colsample_bynode=None,\n",
       "             colsample_bytree=None, device=None, early_stopping_rounds=50,\n",
       "             enable_categorical=False, eval_metric=None, feature_types=None,\n",
       "             gamma=None, grow_policy=None, importance_type=None,\n",
       "             interaction_constraints=None, learning_rate=0.01, max_bin=None,\n",
       "             max_cat_threshold=None, max_cat_to_onehot=None,\n",
       "             max_delta_step=None, max_depth=3, max_leaves=None,\n",
       "             min_child_weight=None, missing=nan, monotone_constraints=None,\n",
       "             multi_strategy=None, n_estimators=1000, n_jobs=None,\n",
       "             num_parallel_tree=None, objective=&#x27;reg:linear&#x27;, ...)</pre><b>In a Jupyter environment, please rerun this cell to show the HTML representation or trust the notebook. <br />On GitHub, the HTML representation is unable to render, please try loading this page with nbviewer.org.</b></div><div class=\"sk-container\" hidden><div class=\"sk-item\"><div class=\"sk-estimator sk-toggleable\"><input class=\"sk-toggleable__control sk-hidden--visually\" id=\"sk-estimator-id-3\" type=\"checkbox\" checked><label for=\"sk-estimator-id-3\" class=\"sk-toggleable__label sk-toggleable__label-arrow\">XGBRegressor</label><div class=\"sk-toggleable__content\"><pre>XGBRegressor(base_score=0.5, booster=&#x27;gbtree&#x27;, callbacks=None,\n",
       "             colsample_bylevel=None, colsample_bynode=None,\n",
       "             colsample_bytree=None, device=None, early_stopping_rounds=50,\n",
       "             enable_categorical=False, eval_metric=None, feature_types=None,\n",
       "             gamma=None, grow_policy=None, importance_type=None,\n",
       "             interaction_constraints=None, learning_rate=0.01, max_bin=None,\n",
       "             max_cat_threshold=None, max_cat_to_onehot=None,\n",
       "             max_delta_step=None, max_depth=3, max_leaves=None,\n",
       "             min_child_weight=None, missing=nan, monotone_constraints=None,\n",
       "             multi_strategy=None, n_estimators=1000, n_jobs=None,\n",
       "             num_parallel_tree=None, objective=&#x27;reg:linear&#x27;, ...)</pre></div></div></div></div></div>"
      ],
      "text/plain": [
       "XGBRegressor(base_score=0.5, booster='gbtree', callbacks=None,\n",
       "             colsample_bylevel=None, colsample_bynode=None,\n",
       "             colsample_bytree=None, device=None, early_stopping_rounds=50,\n",
       "             enable_categorical=False, eval_metric=None, feature_types=None,\n",
       "             gamma=None, grow_policy=None, importance_type=None,\n",
       "             interaction_constraints=None, learning_rate=0.01, max_bin=None,\n",
       "             max_cat_threshold=None, max_cat_to_onehot=None,\n",
       "             max_delta_step=None, max_depth=3, max_leaves=None,\n",
       "             min_child_weight=None, missing=nan, monotone_constraints=None,\n",
       "             multi_strategy=None, n_estimators=1000, n_jobs=None,\n",
       "             num_parallel_tree=None, objective='reg:linear', ...)"
      ]
     },
     "execution_count": 182,
     "metadata": {},
     "output_type": "execute_result"
    }
   ],
   "source": [
    "reg = xgb.XGBRegressor(base_score=0.5, booster='gbtree',\n",
    "                       n_estimators=1000,\n",
    "                       early_stopping_rounds=50,\n",
    "                       objective='reg:linear',\n",
    "                       max_depth=3,\n",
    "                       learning_rate=0.01)\n",
    "reg.fit(X_train, y_train,\n",
    "        eval_set=[(X_train, y_train), (X_test, y_test)],\n",
    "        verbose=100)"
   ]
  },
  {
   "cell_type": "code",
   "execution_count": 183,
   "metadata": {},
   "outputs": [
    {
     "data": {
      "image/png": "[encoded data removed]",
      "text/plain": [
       "<Figure size 432x288 with 1 Axes>"
      ]
     },
     "metadata": {
      "needs_background": "light"
     },
     "output_type": "display_data"
    }
   ],
   "source": [
    "fi = pd.DataFrame(data=reg.feature_importances_,\n",
    "             index=reg.feature_names_in_,\n",
    "             columns=['importance'])\n",
    "fi.sort_values('importance').plot(kind='barh', title='Feature Importance')\n",
    "plt.show()"
   ]
  },
  {
   "cell_type": "code",
   "execution_count": 184,
   "metadata": {},
   "outputs": [
    {
     "data": {
      "image/png": "[encoded data removed]",
      "text/plain": [
       "<Figure size 1080x360 with 1 Axes>"
      ]
     },
     "metadata": {
      "needs_background": "light"
     },
     "output_type": "display_data"
    }
   ],
   "source": [
    "# @title Forecast on test\n",
    "test['prediction'] = reg.predict(X_test)\n",
    "df = df.merge(test[['prediction']], how='left', left_index=True, right_index=True)\n",
    "ax = df[['Last']].plot(figsize=(15, 5))\n",
    "df['prediction'].plot(ax=ax, style='.')\n",
    "plt.legend(['Truth Data', 'Predictions'])\n",
    "ax.set_title('Raw Dat and Prediction')\n",
    "plt.show()"
   ]
  },
  {
   "cell_type": "code",
   "execution_count": 185,
   "metadata": {},
   "outputs": [
    {
     "data": {
      "image/png": "[encoded data removed]",
      "text/plain": [
       "<Figure size 1080x360 with 1 Axes>"
      ]
     },
     "metadata": {
      "needs_background": "light"
     },
     "output_type": "display_data"
    }
   ],
   "source": [
    "ax = df.loc[(df.index > '2020') & (df.index < '2024')]['Last'] \\\n",
    "    .plot(figsize=(15, 5), title='Week Of Data')\n",
    "df.loc[(df.index >= '2024') & (df.index < '2025')]['prediction'] \\\n",
    "    .plot(style='.')\n",
    "plt.legend(['Truth Data','Prediction'])\n",
    "plt.show()"
   ]
  },
  {
   "cell_type": "code",
   "execution_count": 186,
   "metadata": {},
   "outputs": [
    {
     "name": "stdout",
     "output_type": "stream",
     "text": [
      "RMSE Score on Test set: 20.86\n"
     ]
    }
   ],
   "source": [
    "# @title RMSE\n",
    "score = np.sqrt(mean_squared_error(test['Last'], test['prediction']))\n",
    "print(f'RMSE Score on Test set: {score:0.2f}')"
   ]
  },
  {
   "cell_type": "code",
   "execution_count": 187,
   "metadata": {},
   "outputs": [
    {
     "data": {
      "text/plain": [
       "date\n",
       "2024-01-26    43.255966\n",
       "2024-02-23    22.852615\n",
       "2024-12-27    21.399094\n",
       "2024-11-29    21.099094\n",
       "2024-10-25    20.199094\n",
       "2024-09-27    18.349094\n",
       "2024-08-30    17.749094\n",
       "2024-07-26    16.899094\n",
       "2024-06-28    16.149094\n",
       "2024-05-31    15.949094\n",
       "Name: error, dtype: float64"
      ]
     },
     "execution_count": 187,
     "metadata": {},
     "output_type": "execute_result"
    }
   ],
   "source": [
    "# @title Calculate Error\n",
    "test['error'] = np.abs(test[TARGET] - test['prediction'])\n",
    "test['date'] = test.index.date\n",
    "test.groupby(['date'])['error'].mean().sort_values(ascending=False).head(10)"
   ]
  },
  {
   "cell_type": "markdown",
   "metadata": {},
   "source": [
    "# Split decomposed data"
   ]
  },
  {
   "cell_type": "code",
   "execution_count": 188,
   "metadata": {},
   "outputs": [
    {
     "ename": "NameError",
     "evalue": "name 'trainu' is not defined",
     "output_type": "error",
     "traceback": [
      "\u001b[1;31m---------------------------------------------------------------------------\u001b[0m",
      "\u001b[1;31mNameError\u001b[0m                                 Traceback (most recent call last)",
      "\u001b[1;32m~\\AppData\\Local\\Temp/ipykernel_23604/2823262220.py\u001b[0m in \u001b[0;36m<module>\u001b[1;34m\u001b[0m\n\u001b[1;32m----> 1\u001b[1;33m \u001b[1;32mdel\u001b[0m \u001b[0mtrainu\u001b[0m\u001b[1;33m\u001b[0m\u001b[1;33m\u001b[0m\u001b[0m\n\u001b[0m",
      "\u001b[1;31mNameError\u001b[0m: name 'trainu' is not defined"
     ]
    }
   ],
   "source": [
    "del trainu"
   ]
  },
  {
   "cell_type": "code",
   "execution_count": null,
   "metadata": {},
   "outputs": [],
   "source": []
  }
 ],
 "metadata": {
  "kernelspec": {
   "display_name": "Python 3",
   "language": "python",
   "name": "python3"
  },
  "language_info": {
   "codemirror_mode": {
    "name": "ipython",
    "version": 3
   },
   "file_extension": ".py",
   "mimetype": "text/x-python",
   "name": "python",
   "nbconvert_exporter": "python",
   "pygments_lexer": "ipython3",
   "version": "3.10.0"
  }
 },
 "nbformat": 4,
 "nbformat_minor": 2
}
